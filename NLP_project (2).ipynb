{
  "nbformat": 4,
  "nbformat_minor": 0,
  "metadata": {
    "colab": {
      "provenance": []
    },
    "kernelspec": {
      "name": "python3",
      "display_name": "Python 3"
    },
    "language_info": {
      "name": "python"
    }
  },
  "cells": [
    {
      "cell_type": "code",
      "execution_count": 1,
      "metadata": {
        "id": "oN0huRvVQ-6h"
      },
      "outputs": [],
      "source": [
        "import pandas as pd"
      ]
    },
    {
      "cell_type": "code",
      "source": [
        "\n",
        "# Read data\n",
        "df = pd.read_csv('hotel_reviews.csv')"
      ],
      "metadata": {
        "id": "kUq1UYGHRowK"
      },
      "execution_count": 2,
      "outputs": []
    },
    {
      "cell_type": "code",
      "source": [
        "\n",
        "# Display information about the DataFrame\n",
        "print(\"DataFrame Info:\\n\", df.info())"
      ],
      "metadata": {
        "colab": {
          "base_uri": "https://localhost:8080/"
        },
        "id": "_4noaqk_TDIw",
        "outputId": "83a2dd31-a3a8-4e10-be87-1adf2c86801c"
      },
      "execution_count": 3,
      "outputs": [
        {
          "output_type": "stream",
          "name": "stdout",
          "text": [
            "<class 'pandas.core.frame.DataFrame'>\n",
            "RangeIndex: 7001 entries, 0 to 7000\n",
            "Data columns (total 7 columns):\n",
            " #   Column             Non-Null Count  Dtype  \n",
            "---  ------             --------------  -----  \n",
            " 0   Index              7001 non-null   int64  \n",
            " 1   Name               7001 non-null   object \n",
            " 2   Area               7001 non-null   object \n",
            " 3   Review_Date        7001 non-null   object \n",
            " 4   Rating_attribute   7001 non-null   object \n",
            " 5   Rating(Out of 10)  7001 non-null   float64\n",
            " 6   Review_Text        6994 non-null   object \n",
            "dtypes: float64(1), int64(1), object(5)\n",
            "memory usage: 383.0+ KB\n",
            "DataFrame Info:\n",
            " None\n"
          ]
        }
      ]
    },
    {
      "cell_type": "code",
      "source": [
        "df.describe()"
      ],
      "metadata": {
        "colab": {
          "base_uri": "https://localhost:8080/",
          "height": 300
        },
        "id": "r5rz1BuyTHHx",
        "outputId": "92040d92-0377-4cbf-a6fe-6ffcc20fa92d"
      },
      "execution_count": 4,
      "outputs": [
        {
          "output_type": "execute_result",
          "data": {
            "text/plain": [
              "            Index  Rating(Out of 10)\n",
              "count  7001.00000        7001.000000\n",
              "mean   3500.00000           7.030981\n",
              "std    2021.15895           2.882846\n",
              "min       0.00000           1.000000\n",
              "25%    1750.00000           6.000000\n",
              "50%    3500.00000           8.000000\n",
              "75%    5250.00000           9.000000\n",
              "max    7000.00000          10.000000"
            ],
            "text/html": [
              "\n",
              "  <div id=\"df-515f8750-6afb-49f4-b657-3f0378e1a821\" class=\"colab-df-container\">\n",
              "    <div>\n",
              "<style scoped>\n",
              "    .dataframe tbody tr th:only-of-type {\n",
              "        vertical-align: middle;\n",
              "    }\n",
              "\n",
              "    .dataframe tbody tr th {\n",
              "        vertical-align: top;\n",
              "    }\n",
              "\n",
              "    .dataframe thead th {\n",
              "        text-align: right;\n",
              "    }\n",
              "</style>\n",
              "<table border=\"1\" class=\"dataframe\">\n",
              "  <thead>\n",
              "    <tr style=\"text-align: right;\">\n",
              "      <th></th>\n",
              "      <th>Index</th>\n",
              "      <th>Rating(Out of 10)</th>\n",
              "    </tr>\n",
              "  </thead>\n",
              "  <tbody>\n",
              "    <tr>\n",
              "      <th>count</th>\n",
              "      <td>7001.00000</td>\n",
              "      <td>7001.000000</td>\n",
              "    </tr>\n",
              "    <tr>\n",
              "      <th>mean</th>\n",
              "      <td>3500.00000</td>\n",
              "      <td>7.030981</td>\n",
              "    </tr>\n",
              "    <tr>\n",
              "      <th>std</th>\n",
              "      <td>2021.15895</td>\n",
              "      <td>2.882846</td>\n",
              "    </tr>\n",
              "    <tr>\n",
              "      <th>min</th>\n",
              "      <td>0.00000</td>\n",
              "      <td>1.000000</td>\n",
              "    </tr>\n",
              "    <tr>\n",
              "      <th>25%</th>\n",
              "      <td>1750.00000</td>\n",
              "      <td>6.000000</td>\n",
              "    </tr>\n",
              "    <tr>\n",
              "      <th>50%</th>\n",
              "      <td>3500.00000</td>\n",
              "      <td>8.000000</td>\n",
              "    </tr>\n",
              "    <tr>\n",
              "      <th>75%</th>\n",
              "      <td>5250.00000</td>\n",
              "      <td>9.000000</td>\n",
              "    </tr>\n",
              "    <tr>\n",
              "      <th>max</th>\n",
              "      <td>7000.00000</td>\n",
              "      <td>10.000000</td>\n",
              "    </tr>\n",
              "  </tbody>\n",
              "</table>\n",
              "</div>\n",
              "    <div class=\"colab-df-buttons\">\n",
              "\n",
              "  <div class=\"colab-df-container\">\n",
              "    <button class=\"colab-df-convert\" onclick=\"convertToInteractive('df-515f8750-6afb-49f4-b657-3f0378e1a821')\"\n",
              "            title=\"Convert this dataframe to an interactive table.\"\n",
              "            style=\"display:none;\">\n",
              "\n",
              "  <svg xmlns=\"http://www.w3.org/2000/svg\" height=\"24px\" viewBox=\"0 -960 960 960\">\n",
              "    <path d=\"M120-120v-720h720v720H120Zm60-500h600v-160H180v160Zm220 220h160v-160H400v160Zm0 220h160v-160H400v160ZM180-400h160v-160H180v160Zm440 0h160v-160H620v160ZM180-180h160v-160H180v160Zm440 0h160v-160H620v160Z\"/>\n",
              "  </svg>\n",
              "    </button>\n",
              "\n",
              "  <style>\n",
              "    .colab-df-container {\n",
              "      display:flex;\n",
              "      gap: 12px;\n",
              "    }\n",
              "\n",
              "    .colab-df-convert {\n",
              "      background-color: #E8F0FE;\n",
              "      border: none;\n",
              "      border-radius: 50%;\n",
              "      cursor: pointer;\n",
              "      display: none;\n",
              "      fill: #1967D2;\n",
              "      height: 32px;\n",
              "      padding: 0 0 0 0;\n",
              "      width: 32px;\n",
              "    }\n",
              "\n",
              "    .colab-df-convert:hover {\n",
              "      background-color: #E2EBFA;\n",
              "      box-shadow: 0px 1px 2px rgba(60, 64, 67, 0.3), 0px 1px 3px 1px rgba(60, 64, 67, 0.15);\n",
              "      fill: #174EA6;\n",
              "    }\n",
              "\n",
              "    .colab-df-buttons div {\n",
              "      margin-bottom: 4px;\n",
              "    }\n",
              "\n",
              "    [theme=dark] .colab-df-convert {\n",
              "      background-color: #3B4455;\n",
              "      fill: #D2E3FC;\n",
              "    }\n",
              "\n",
              "    [theme=dark] .colab-df-convert:hover {\n",
              "      background-color: #434B5C;\n",
              "      box-shadow: 0px 1px 3px 1px rgba(0, 0, 0, 0.15);\n",
              "      filter: drop-shadow(0px 1px 2px rgba(0, 0, 0, 0.3));\n",
              "      fill: #FFFFFF;\n",
              "    }\n",
              "  </style>\n",
              "\n",
              "    <script>\n",
              "      const buttonEl =\n",
              "        document.querySelector('#df-515f8750-6afb-49f4-b657-3f0378e1a821 button.colab-df-convert');\n",
              "      buttonEl.style.display =\n",
              "        google.colab.kernel.accessAllowed ? 'block' : 'none';\n",
              "\n",
              "      async function convertToInteractive(key) {\n",
              "        const element = document.querySelector('#df-515f8750-6afb-49f4-b657-3f0378e1a821');\n",
              "        const dataTable =\n",
              "          await google.colab.kernel.invokeFunction('convertToInteractive',\n",
              "                                                    [key], {});\n",
              "        if (!dataTable) return;\n",
              "\n",
              "        const docLinkHtml = 'Like what you see? Visit the ' +\n",
              "          '<a target=\"_blank\" href=https://colab.research.google.com/notebooks/data_table.ipynb>data table notebook</a>'\n",
              "          + ' to learn more about interactive tables.';\n",
              "        element.innerHTML = '';\n",
              "        dataTable['output_type'] = 'display_data';\n",
              "        await google.colab.output.renderOutput(dataTable, element);\n",
              "        const docLink = document.createElement('div');\n",
              "        docLink.innerHTML = docLinkHtml;\n",
              "        element.appendChild(docLink);\n",
              "      }\n",
              "    </script>\n",
              "  </div>\n",
              "\n",
              "\n",
              "<div id=\"df-3b90bc87-d039-4f63-bc20-7506530ca087\">\n",
              "  <button class=\"colab-df-quickchart\" onclick=\"quickchart('df-3b90bc87-d039-4f63-bc20-7506530ca087')\"\n",
              "            title=\"Suggest charts\"\n",
              "            style=\"display:none;\">\n",
              "\n",
              "<svg xmlns=\"http://www.w3.org/2000/svg\" height=\"24px\"viewBox=\"0 0 24 24\"\n",
              "     width=\"24px\">\n",
              "    <g>\n",
              "        <path d=\"M19 3H5c-1.1 0-2 .9-2 2v14c0 1.1.9 2 2 2h14c1.1 0 2-.9 2-2V5c0-1.1-.9-2-2-2zM9 17H7v-7h2v7zm4 0h-2V7h2v10zm4 0h-2v-4h2v4z\"/>\n",
              "    </g>\n",
              "</svg>\n",
              "  </button>\n",
              "\n",
              "<style>\n",
              "  .colab-df-quickchart {\n",
              "      --bg-color: #E8F0FE;\n",
              "      --fill-color: #1967D2;\n",
              "      --hover-bg-color: #E2EBFA;\n",
              "      --hover-fill-color: #174EA6;\n",
              "      --disabled-fill-color: #AAA;\n",
              "      --disabled-bg-color: #DDD;\n",
              "  }\n",
              "\n",
              "  [theme=dark] .colab-df-quickchart {\n",
              "      --bg-color: #3B4455;\n",
              "      --fill-color: #D2E3FC;\n",
              "      --hover-bg-color: #434B5C;\n",
              "      --hover-fill-color: #FFFFFF;\n",
              "      --disabled-bg-color: #3B4455;\n",
              "      --disabled-fill-color: #666;\n",
              "  }\n",
              "\n",
              "  .colab-df-quickchart {\n",
              "    background-color: var(--bg-color);\n",
              "    border: none;\n",
              "    border-radius: 50%;\n",
              "    cursor: pointer;\n",
              "    display: none;\n",
              "    fill: var(--fill-color);\n",
              "    height: 32px;\n",
              "    padding: 0;\n",
              "    width: 32px;\n",
              "  }\n",
              "\n",
              "  .colab-df-quickchart:hover {\n",
              "    background-color: var(--hover-bg-color);\n",
              "    box-shadow: 0 1px 2px rgba(60, 64, 67, 0.3), 0 1px 3px 1px rgba(60, 64, 67, 0.15);\n",
              "    fill: var(--button-hover-fill-color);\n",
              "  }\n",
              "\n",
              "  .colab-df-quickchart-complete:disabled,\n",
              "  .colab-df-quickchart-complete:disabled:hover {\n",
              "    background-color: var(--disabled-bg-color);\n",
              "    fill: var(--disabled-fill-color);\n",
              "    box-shadow: none;\n",
              "  }\n",
              "\n",
              "  .colab-df-spinner {\n",
              "    border: 2px solid var(--fill-color);\n",
              "    border-color: transparent;\n",
              "    border-bottom-color: var(--fill-color);\n",
              "    animation:\n",
              "      spin 1s steps(1) infinite;\n",
              "  }\n",
              "\n",
              "  @keyframes spin {\n",
              "    0% {\n",
              "      border-color: transparent;\n",
              "      border-bottom-color: var(--fill-color);\n",
              "      border-left-color: var(--fill-color);\n",
              "    }\n",
              "    20% {\n",
              "      border-color: transparent;\n",
              "      border-left-color: var(--fill-color);\n",
              "      border-top-color: var(--fill-color);\n",
              "    }\n",
              "    30% {\n",
              "      border-color: transparent;\n",
              "      border-left-color: var(--fill-color);\n",
              "      border-top-color: var(--fill-color);\n",
              "      border-right-color: var(--fill-color);\n",
              "    }\n",
              "    40% {\n",
              "      border-color: transparent;\n",
              "      border-right-color: var(--fill-color);\n",
              "      border-top-color: var(--fill-color);\n",
              "    }\n",
              "    60% {\n",
              "      border-color: transparent;\n",
              "      border-right-color: var(--fill-color);\n",
              "    }\n",
              "    80% {\n",
              "      border-color: transparent;\n",
              "      border-right-color: var(--fill-color);\n",
              "      border-bottom-color: var(--fill-color);\n",
              "    }\n",
              "    90% {\n",
              "      border-color: transparent;\n",
              "      border-bottom-color: var(--fill-color);\n",
              "    }\n",
              "  }\n",
              "</style>\n",
              "\n",
              "  <script>\n",
              "    async function quickchart(key) {\n",
              "      const quickchartButtonEl =\n",
              "        document.querySelector('#' + key + ' button');\n",
              "      quickchartButtonEl.disabled = true;  // To prevent multiple clicks.\n",
              "      quickchartButtonEl.classList.add('colab-df-spinner');\n",
              "      try {\n",
              "        const charts = await google.colab.kernel.invokeFunction(\n",
              "            'suggestCharts', [key], {});\n",
              "      } catch (error) {\n",
              "        console.error('Error during call to suggestCharts:', error);\n",
              "      }\n",
              "      quickchartButtonEl.classList.remove('colab-df-spinner');\n",
              "      quickchartButtonEl.classList.add('colab-df-quickchart-complete');\n",
              "    }\n",
              "    (() => {\n",
              "      let quickchartButtonEl =\n",
              "        document.querySelector('#df-3b90bc87-d039-4f63-bc20-7506530ca087 button');\n",
              "      quickchartButtonEl.style.display =\n",
              "        google.colab.kernel.accessAllowed ? 'block' : 'none';\n",
              "    })();\n",
              "  </script>\n",
              "</div>\n",
              "\n",
              "    </div>\n",
              "  </div>\n"
            ],
            "application/vnd.google.colaboratory.intrinsic+json": {
              "type": "dataframe",
              "summary": "{\n  \"name\": \"df\",\n  \"rows\": 8,\n  \"fields\": [\n    {\n      \"column\": \"Index\",\n      \"properties\": {\n        \"dtype\": \"number\",\n        \"std\": 2522.9753127091876,\n        \"min\": 0.0,\n        \"max\": 7001.0,\n        \"num_unique_values\": 7,\n        \"samples\": [\n          7001.0,\n          3500.0,\n          5250.0\n        ],\n        \"semantic_type\": \"\",\n        \"description\": \"\"\n      }\n    },\n    {\n      \"column\": \"Rating(Out of 10)\",\n      \"properties\": {\n        \"dtype\": \"number\",\n        \"std\": 2473.011160277797,\n        \"min\": 1.0,\n        \"max\": 7001.0,\n        \"num_unique_values\": 8,\n        \"samples\": [\n          7.030981288387373,\n          8.0,\n          7001.0\n        ],\n        \"semantic_type\": \"\",\n        \"description\": \"\"\n      }\n    }\n  ]\n}"
            }
          },
          "metadata": {},
          "execution_count": 4
        }
      ]
    },
    {
      "cell_type": "code",
      "source": [
        "# Drop rows with NaN values in Review_Text\n",
        "df = df.dropna(subset=['Review_Text'])"
      ],
      "metadata": {
        "id": "KCq5WtKjT2iC"
      },
      "execution_count": 5,
      "outputs": []
    },
    {
      "cell_type": "code",
      "source": [
        "\n",
        "# Function to clean text\n",
        "def clean_text(text):\n",
        "    if isinstance(text, float) and np.isnan(text):\n",
        "        return ''\n",
        "    text = text.lower()  # Lowercase\n",
        "    text = text.translate(str.maketrans('', '', string.punctuation))  # Remove punctuation\n",
        "    text = ''.join([i for i in text if not i.isdigit()])  # Remove numbers\n",
        "    return text"
      ],
      "metadata": {
        "id": "l9j7k6jvRwBK"
      },
      "execution_count": 6,
      "outputs": []
    },
    {
      "cell_type": "code",
      "source": [
        "import string\n",
        " # Importing the string module for string manipulation tasks (e.g., removing punctuation)\n",
        "import numpy as np\n",
        " # Importing NumPy for numerical computations and efficient array operations\n",
        "import nltk\n",
        " # Importing NLTK (Natural Language Toolkit) for natural language processing tasks\n",
        "from nltk.tokenize import word_tokenize\n",
        " # Importing word_tokenize for tokenizing text into words\n",
        "from nltk.corpus import stopwords\n",
        " # Importing stopwords for filtering out common words in text analysis\n"
      ],
      "metadata": {
        "id": "hJgyaqifVjlE"
      },
      "execution_count": 7,
      "outputs": []
    },
    {
      "cell_type": "code",
      "source": [
        "# Download NLTK data files\n",
        "#NLTK is a powerful library for natural language processing (NLP) tasks in Python.\n",
        "#It provides easy-to-use interfaces to numerous linguistic data resources and algorithms.\n",
        "nltk.download('punkt')\n",
        "#punkt: Provides tokenizers for breaking text into tokens (words and punctuation).\n",
        "\n",
        "#NLTK relies on various datasets and models (corpora, models, etc.) to perform its functions.\n",
        "#These downloads ensure that your local NLTK installation has the necessary data files required for specific tasks\n",
        "\n",
        "nltk.download('stopwords')\n",
        "\n",
        "#stopwords: Contains lists of common words (e.g., \"the\", \"is\", \"and\") that are typically removed from text data because they do not contribute much to the meaning of the text.\n",
        "nltk.download('wordnet')\n",
        "\n",
        "#wordnet: A lexical database of English that is used for tasks such as synonymy, hyponymy, and lemmatization (reducing words to their base or root form)."
      ],
      "metadata": {
        "colab": {
          "base_uri": "https://localhost:8080/"
        },
        "id": "KmudEbvIWHqe",
        "outputId": "f2ebb3e1-21fa-4055-f482-bc06aaee7fa3"
      },
      "execution_count": 8,
      "outputs": [
        {
          "output_type": "stream",
          "name": "stderr",
          "text": [
            "[nltk_data] Downloading package punkt to /root/nltk_data...\n",
            "[nltk_data]   Unzipping tokenizers/punkt.zip.\n",
            "[nltk_data] Downloading package stopwords to /root/nltk_data...\n",
            "[nltk_data]   Unzipping corpora/stopwords.zip.\n",
            "[nltk_data] Downloading package wordnet to /root/nltk_data...\n"
          ]
        },
        {
          "output_type": "execute_result",
          "data": {
            "text/plain": [
              "True"
            ]
          },
          "metadata": {},
          "execution_count": 8
        }
      ]
    },
    {
      "cell_type": "code",
      "source": [
        "# Apply text cleaning\n",
        "df['Cleaned_Review_Text'] = df['Review_Text'].apply(clean_text)\n",
        "\n",
        "# Tokenization\n",
        "df['Tokens'] = df['Cleaned_Review_Text'].apply(word_tokenize)\n",
        "\n",
        "# Stop Words Removal\n",
        "stop_words = set(stopwords.words('english'))\n",
        "df['Tokens'] = df['Tokens'].apply(lambda x: [word for word in x])\n"
      ],
      "metadata": {
        "id": "E6gbDN_0Rx89"
      },
      "execution_count": 9,
      "outputs": []
    },
    {
      "cell_type": "code",
      "source": [
        "\n",
        "# Before cleaning\n",
        "print(\"Before Text Cleaning:\")\n",
        "print(df['Review_Text'])\n",
        "\n",
        "# Apply text cleaning\n",
        "df['Cleaned_Review_Text'] = df['Review_Text'].apply(clean_text)\n",
        "print(\"After Text Cleaning:\")\n",
        "print(df['Cleaned_Review_Text'])\n"
      ],
      "metadata": {
        "colab": {
          "base_uri": "https://localhost:8080/"
        },
        "id": "fE9KfcL2VRnR",
        "outputId": "a58ae444-8c3d-4c30-e29e-f3a451f46adb"
      },
      "execution_count": 10,
      "outputs": [
        {
          "output_type": "stream",
          "name": "stdout",
          "text": [
            "Before Text Cleaning:\n",
            "0       Hotel the pearl is perfect place to stay in De...\n",
            "1       Location of the hotel is perfect. The hotel is...\n",
            "2                                  Location, Indian food.\n",
            "3       The location and the hotel itself is great. Ne...\n",
            "4       Friendly and smiling staffs.. The reception st...\n",
            "                              ...                        \n",
            "6996    The room was good, comfortable and aesthetic \\...\n",
            "6997                                           good hotel\n",
            "6998    good experience for me about hotel \\nvery good...\n",
            "6999                                            well done\n",
            "7000                                              Nothing\n",
            "Name: Review_Text, Length: 6994, dtype: object\n",
            "After Text Cleaning:\n",
            "0       hotel the pearl is perfect place to stay in de...\n",
            "1       location of the hotel is perfect the hotel is ...\n",
            "2                                    location indian food\n",
            "3       the location and the hotel itself is great nex...\n",
            "4       friendly and smiling staffs the reception staf...\n",
            "                              ...                        \n",
            "6996    the room was good comfortable and aesthetic \\n...\n",
            "6997                                           good hotel\n",
            "6998    good experience for me about hotel \\nvery good...\n",
            "6999                                            well done\n",
            "7000                                              nothing\n",
            "Name: Cleaned_Review_Text, Length: 6994, dtype: object\n"
          ]
        }
      ]
    },
    {
      "cell_type": "code",
      "source": [
        "# Before tokenization\n",
        "print(\"\\nAfter Text Cleaning (before tokenization):\")\n",
        "print(df['Cleaned_Review_Text'])\n",
        "\n",
        "# Tokenization\n",
        "print(\"After tokenization\")\n",
        "df['Tokens'] = df['Cleaned_Review_Text'].apply(word_tokenize)\n",
        "print(df['Tokens'])\n"
      ],
      "metadata": {
        "colab": {
          "base_uri": "https://localhost:8080/"
        },
        "id": "K-tHZL3sVSdi",
        "outputId": "e6175324-46b0-46b6-90ba-f6816c5c47d4"
      },
      "execution_count": 11,
      "outputs": [
        {
          "output_type": "stream",
          "name": "stdout",
          "text": [
            "\n",
            "After Text Cleaning (before tokenization):\n",
            "0       hotel the pearl is perfect place to stay in de...\n",
            "1       location of the hotel is perfect the hotel is ...\n",
            "2                                    location indian food\n",
            "3       the location and the hotel itself is great nex...\n",
            "4       friendly and smiling staffs the reception staf...\n",
            "                              ...                        \n",
            "6996    the room was good comfortable and aesthetic \\n...\n",
            "6997                                           good hotel\n",
            "6998    good experience for me about hotel \\nvery good...\n",
            "6999                                            well done\n",
            "7000                                              nothing\n",
            "Name: Cleaned_Review_Text, Length: 6994, dtype: object\n",
            "After tokenization\n",
            "0       [hotel, the, pearl, is, perfect, place, to, st...\n",
            "1       [location, of, the, hotel, is, perfect, the, h...\n",
            "2                                [location, indian, food]\n",
            "3       [the, location, and, the, hotel, itself, is, g...\n",
            "4       [friendly, and, smiling, staffs, the, receptio...\n",
            "                              ...                        \n",
            "6996    [the, room, was, good, comfortable, and, aesth...\n",
            "6997                                        [good, hotel]\n",
            "6998    [good, experience, for, me, about, hotel, very...\n",
            "6999                                         [well, done]\n",
            "7000                                            [nothing]\n",
            "Name: Tokens, Length: 6994, dtype: object\n"
          ]
        }
      ]
    },
    {
      "cell_type": "code",
      "source": [
        "# Stop Words Removal\n",
        "stop_words = set(stopwords.words('english'))\n",
        "df['Tokens'] = df['Tokens'].apply(lambda x: [word for word in x if word.lower() not in stop_words])\n",
        "\n",
        "\n",
        "# After stop words removal\n",
        "print(\"\\nAfter Stop Words Removal:\")\n",
        "print(df['Tokens'])"
      ],
      "metadata": {
        "colab": {
          "base_uri": "https://localhost:8080/"
        },
        "id": "_BZaLoegVSf_",
        "outputId": "ae97fd17-63ea-453b-b47e-8c9e1d01ab0e"
      },
      "execution_count": 12,
      "outputs": [
        {
          "output_type": "stream",
          "name": "stdout",
          "text": [
            "\n",
            "After Stop Words Removal:\n",
            "0       [hotel, pearl, perfect, place, stay, delhi, pa...\n",
            "1       [location, hotel, perfect, hotel, peaceful, ni...\n",
            "2                                [location, indian, food]\n",
            "3       [location, hotel, great, next, time, stay, nic...\n",
            "4       [friendly, smiling, staffs, reception, staff, ...\n",
            "                              ...                        \n",
            "6996    [room, good, comfortable, aesthetic, hotel, go...\n",
            "6997                                        [good, hotel]\n",
            "6998    [good, experience, hotel, good, staff, well, d...\n",
            "6999                                         [well, done]\n",
            "7000                                            [nothing]\n",
            "Name: Tokens, Length: 6994, dtype: object\n"
          ]
        }
      ]
    },
    {
      "cell_type": "code",
      "source": [
        "# Display tokens before stop words removal\n",
        "print(\"Before Stop Words Removal:\")\n",
        "for tokens in df['Tokens'].head():\n",
        "    print(tokens)"
      ],
      "metadata": {
        "colab": {
          "base_uri": "https://localhost:8080/"
        },
        "id": "qKP087JPVSlb",
        "outputId": "eb524e05-f5cd-4c0a-f822-e5bd222224f7"
      },
      "execution_count": 13,
      "outputs": [
        {
          "output_type": "stream",
          "name": "stdout",
          "text": [
            "Before Stop Words Removal:\n",
            "['hotel', 'pearl', 'perfect', 'place', 'stay', 'delhi', 'paharganj', 'whole', 'staff', 'helpful', 'informative', 'rooms', 'clean', 'comfortable', 'hotels', 'location', 'convenient', 'truly', 'wonderful', 'stay', 'recommended']\n",
            "['location', 'hotel', 'perfect', 'hotel', 'peaceful', 'nice', 'staff', 'kind', 'nice', 'rooms', 'recommend', 'hotel']\n",
            "['location', 'indian', 'food']\n",
            "['location', 'hotel', 'great', 'next', 'time', 'stay', 'nice', 'rooms', 'comfortable', 'beds', 'good', 'attitude', 'staff', 'helpful', 'explain', 'everything', 'ask']\n",
            "['friendly', 'smiling', 'staffs', 'reception', 'staff', 'excellent', 'ready', 'help', 'time', 'location', 'fantastic', 'near', 'attractions', 'room', 'big', 'comfortable']\n"
          ]
        }
      ]
    },
    {
      "cell_type": "code",
      "source": [
        "# Define stop words\n",
        "stop_words = set(stopwords.words('english'))\n",
        "\n",
        "# Remove stop words\n",
        "df['Tokens'] = df['Tokens'].apply(lambda x: [word for word in x if word.lower() not in stop_words])\n",
        "\n",
        "# Display tokens after stop words removal\n",
        "print(\"\\nAfter Stop Words Removal:\")\n",
        "for tokens in df['Tokens'].head():\n",
        "    print(tokens)\n"
      ],
      "metadata": {
        "colab": {
          "base_uri": "https://localhost:8080/"
        },
        "id": "ywgxW-XFVSoU",
        "outputId": "6d884c60-e46d-47d8-bed3-90f98f7c7f02"
      },
      "execution_count": 14,
      "outputs": [
        {
          "output_type": "stream",
          "name": "stdout",
          "text": [
            "\n",
            "After Stop Words Removal:\n",
            "['hotel', 'pearl', 'perfect', 'place', 'stay', 'delhi', 'paharganj', 'whole', 'staff', 'helpful', 'informative', 'rooms', 'clean', 'comfortable', 'hotels', 'location', 'convenient', 'truly', 'wonderful', 'stay', 'recommended']\n",
            "['location', 'hotel', 'perfect', 'hotel', 'peaceful', 'nice', 'staff', 'kind', 'nice', 'rooms', 'recommend', 'hotel']\n",
            "['location', 'indian', 'food']\n",
            "['location', 'hotel', 'great', 'next', 'time', 'stay', 'nice', 'rooms', 'comfortable', 'beds', 'good', 'attitude', 'staff', 'helpful', 'explain', 'everything', 'ask']\n",
            "['friendly', 'smiling', 'staffs', 'reception', 'staff', 'excellent', 'ready', 'help', 'time', 'location', 'fantastic', 'near', 'attractions', 'room', 'big', 'comfortable']\n"
          ]
        }
      ]
    },
    {
      "cell_type": "code",
      "source": [
        "from nltk.stem import WordNetLemmatizer"
      ],
      "metadata": {
        "id": "PNFGy9WwXtNP"
      },
      "execution_count": 15,
      "outputs": []
    },
    {
      "cell_type": "code",
      "source": [
        "# Lemmatization\n",
        "\n",
        "lemmatizer = WordNetLemmatizer()\n",
        "df['Tokens'] = df['Tokens'].apply(lambda x: [lemmatizer.lemmatize(word) for word in x])\n",
        "\n",
        "# Display the cleaned data\n",
        "print(df[['Review_Text', 'Cleaned_Review_Text', 'Tokens']].head())"
      ],
      "metadata": {
        "colab": {
          "base_uri": "https://localhost:8080/"
        },
        "id": "YsGX0N3zVSrY",
        "outputId": "96fc46ad-d129-44f7-de13-fce6b3bb44df"
      },
      "execution_count": 16,
      "outputs": [
        {
          "output_type": "stream",
          "name": "stdout",
          "text": [
            "                                         Review_Text  \\\n",
            "0  Hotel the pearl is perfect place to stay in De...   \n",
            "1  Location of the hotel is perfect. The hotel is...   \n",
            "2                             Location, Indian food.   \n",
            "3  The location and the hotel itself is great. Ne...   \n",
            "4  Friendly and smiling staffs.. The reception st...   \n",
            "\n",
            "                                 Cleaned_Review_Text  \\\n",
            "0  hotel the pearl is perfect place to stay in de...   \n",
            "1  location of the hotel is perfect the hotel is ...   \n",
            "2                               location indian food   \n",
            "3  the location and the hotel itself is great nex...   \n",
            "4  friendly and smiling staffs the reception staf...   \n",
            "\n",
            "                                              Tokens  \n",
            "0  [hotel, pearl, perfect, place, stay, delhi, pa...  \n",
            "1  [location, hotel, perfect, hotel, peaceful, ni...  \n",
            "2                           [location, indian, food]  \n",
            "3  [location, hotel, great, next, time, stay, nic...  \n",
            "4  [friendly, smiling, staff, reception, staff, e...  \n"
          ]
        }
      ]
    }
  ]
}